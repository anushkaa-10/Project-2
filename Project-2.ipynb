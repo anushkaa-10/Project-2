{
 "cells": [
  {
   "cell_type": "code",
   "execution_count": 2,
   "id": "ff9e7513-86c5-4292-99ba-acc2d746a4ed",
   "metadata": {},
   "outputs": [],
   "source": [
    "record = {1001:{'Name': \"5 Star\",         'Price': 10, 'Quantity':200},\n",
    "          1002:{'Name': \"Bar-One\",        'Price': 20, 'Quantity':100},\n",
    "          1003:{'Name': \"Chocolate Cake\", 'Price': 500, 'Quantity':10},\n",
    "          1004:{'Name': \"Blueberry Cake\", 'Price': 650, 'Quantity':15}}"
   ]
  },
  {
   "cell_type": "code",
   "execution_count": 3,
   "id": "971ba2a2-110d-4e6b-95ff-3ab941d9c420",
   "metadata": {},
   "outputs": [
    {
     "name": "stdout",
     "output_type": "stream",
     "text": [
      "{1001: {'Name': '5 Star', 'Price': 10, 'Quantity': 200}, 1002: {'Name': 'Bar-One', 'Price': 20, 'Quantity': 100}, 1003: {'Name': 'Chocolate Cake', 'Price': 500, 'Quantity': 10}, 1004: {'Name': 'Blueberry Cake', 'Price': 650, 'Quantity': 15}}\n"
     ]
    }
   ],
   "source": [
    "print(record)"
   ]
  },
  {
   "cell_type": "code",
   "execution_count": 4,
   "id": "7eae3c60-25b1-49a8-92f2-a0243488b5c6",
   "metadata": {},
   "outputs": [
    {
     "data": {
      "text/plain": [
       "{1001: {'Name': '5 Star', 'Price': 10, 'Quantity': 200},\n",
       " 1002: {'Name': 'Bar-One', 'Price': 20, 'Quantity': 100},\n",
       " 1003: {'Name': 'Chocolate Cake', 'Price': 500, 'Quantity': 10},\n",
       " 1004: {'Name': 'Blueberry Cake', 'Price': 650, 'Quantity': 15}}"
      ]
     },
     "execution_count": 4,
     "metadata": {},
     "output_type": "execute_result"
    }
   ],
   "source": [
    "record"
   ]
  },
  {
   "cell_type": "code",
   "execution_count": 6,
   "id": "44fe0935-1e11-47e2-817a-5bc00487c2f3",
   "metadata": {},
   "outputs": [
    {
     "name": "stdout",
     "output_type": "stream",
     "text": [
      "{'Name': 'Bar-One', 'Price': 20, 'Quantity': 100}\n"
     ]
    }
   ],
   "source": [
    "print(record[1002])"
   ]
  },
  {
   "cell_type": "code",
   "execution_count": 16,
   "id": "aee283e4-8db5-46ba-a836-134b8e91ffa0",
   "metadata": {},
   "outputs": [
    {
     "name": "stdout",
     "output_type": "stream",
     "text": [
      "----------------MENU----------------\n",
      "1001 : 5 Star | 10 | 193\n",
      "1002 : Bar-One | 20 | 92\n",
      "1003 : Chocolate Cake | 500 | 10\n",
      "1004 : Blueberry Cake | 650 | 14\n",
      "------------------------------------\n"
     ]
    },
    {
     "name": "stdin",
     "output_type": "stream",
     "text": [
      "Enter your Name:  Shivani\n",
      "Enter your Mail ID:  shivani23@gmail.com\n",
      "Enter your Phone no.:  9845362798\n",
      "Enter Product ID:  1003\n",
      "Enter Quantity  :  2\n"
     ]
    },
    {
     "name": "stdout",
     "output_type": "stream",
     "text": [
      "------------------------------------\n",
      "Name:  Chocolate Cake\n",
      "Price (Rs):  500\n",
      "Quantity:  2\n",
      "------------------------------------\n",
      "Billing : 1000 Rs\n",
      "------------------------------------\n",
      "\n",
      "---------------------------------------------\n",
      "  Thanks for your order, Inventory Updated!  \n",
      "---------------------------------------------\n"
     ]
    }
   ],
   "source": [
    "import json\n",
    "import time\n",
    "\n",
    "fd = open('Records.json','r')\n",
    "js = fd.read()\n",
    "fd.close()\n",
    "\n",
    "record = json.loads(js)\n",
    "\n",
    "print(\"----------------MENU----------------\")\n",
    "\n",
    "for key in record.keys():\n",
    "    print(key,\":\",record[key]['Name'],\"|\",record[key]['Price'],\"|\",record[key]['Quantity'])\n",
    "\n",
    "print(\"------------------------------------\")\n",
    "\n",
    "ui_name = str(input(\"Enter your Name: \"))\n",
    "ui_mail = str(input(\"Enter your Mail ID: \"))\n",
    "ui_phone = str(input(\"Enter your Phone no.: \"))\n",
    "ui_pr = str(input(\"Enter Product ID: \"))\n",
    "ui_qn = int(input(\"Enter Quantity  : \"))\n",
    "\n",
    "print(\"------------------------------------\")\n",
    "\n",
    "if(record[ui_pr]['Quantity'] >= ui_qn):\n",
    "    print(\"Name: \",               record[ui_pr]['Name'])\n",
    "    print(\"Price (Rs): \",         record[ui_pr]['Price'])\n",
    "    print(\"Quantity: \",           ui_qn)\n",
    "    \n",
    "    print(\"------------------------------------\")\n",
    "    \n",
    "    print(\"Billing :\",record[ui_pr]['Price'] * ui_qn, \"Rs\")\n",
    "\n",
    "    print(\"------------------------------------\")\n",
    "    \n",
    "    record[ui_pr]['Quantity'] = record[ui_pr]['Quantity'] - ui_qn\n",
    "    sale = ui_name+\",\"+ui_mail+\",\"+ui_phone+\",\"+ui_pr+\",\"+record[ui_pr][\"Name\"]+\",\"+str(ui_qn)+\",\"+str(record[ui_pr][\"Price\"])+\",\"+str(ui_qn * record[ui_pr][\"Price\"])+\",\"+time.ctime()+\"\\n\"\n",
    "\n",
    "else:\n",
    "    print(\"Sorry, we are not having enough Quantity\")\n",
    "    print(\"We're only having\",record[ui_pr]['Quantity'], \"quantity\")\n",
    "    print(\"Press Y/y to Purchase: \")\n",
    "\n",
    "    ch = input(\"Press Y/y :\")\n",
    "    if(ch=='Y' or ch=='y'):\n",
    "        print(\"Name: \",               record[ui_pr]['Name'])\n",
    "        print(\"Price (Rs): \",         record[ui_pr]['Price'])\n",
    "        print(\"Quantity: \",           record[ui_pr]['Quantity'])\n",
    "    \n",
    "        print(\"------------------------------------\")\n",
    "    \n",
    "        print(\"Billing :\",record[ui_pr]['Price'] * record[ui_pr]['Quantity'], \"Rs\")\n",
    "\n",
    "        print(\"------------------------------------\")\n",
    "    \n",
    "        record[ui_pr]['Quantity'] = 0\n",
    "        sale = ui_name+\",\"+ui_mail+\",\"+ui_phone+\",\"+ui_pr+\",\"+record[ui_pr][\"Name\"]+\",\"+str(record[ui_pr]['Quantity'])+\",\"+str(record[ui_pr][\"Price\"])+\",\"+str(record[ui_pr]['Quantity'] * record[ui_pr][\"Price\"])+\",\"+time.ctime()+\"\\n\"\n",
    " \n",
    "\n",
    "    else: print(\"thanks!\")\n",
    "\n",
    "\n",
    "js = json.dumps(record)\n",
    "\n",
    "fd = open(\"Records.json\",'w')\n",
    "\n",
    "fd.write(js)\n",
    "fd.close()\n",
    "\n",
    "fd = open('Sales.txt','a')\n",
    "fd.write(sale)\n",
    "fd.close()\n",
    "\n",
    "print('')\n",
    "print(\"---------------------------------------------\")\n",
    "print(\"  Thanks for your order, Inventory Updated!  \")\n",
    "print(\"---------------------------------------------\")\n"
   ]
  },
  {
   "cell_type": "code",
   "execution_count": 15,
   "id": "1a546a8e-e76b-4bd2-b579-b52f1f0e2ef9",
   "metadata": {},
   "outputs": [],
   "source": []
  },
  {
   "cell_type": "code",
   "execution_count": null,
   "id": "f847ca27-84b8-4f40-a39e-8b523bda9d6c",
   "metadata": {},
   "outputs": [],
   "source": []
  }
 ],
 "metadata": {
  "kernelspec": {
   "display_name": "Python 3 (ipykernel)",
   "language": "python",
   "name": "python3"
  },
  "language_info": {
   "codemirror_mode": {
    "name": "ipython",
    "version": 3
   },
   "file_extension": ".py",
   "mimetype": "text/x-python",
   "name": "python",
   "nbconvert_exporter": "python",
   "pygments_lexer": "ipython3",
   "version": "3.11.7"
  }
 },
 "nbformat": 4,
 "nbformat_minor": 5
}
